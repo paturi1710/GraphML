{
  "nbformat": 4,
  "nbformat_minor": 0,
  "metadata": {
    "colab": {
      "provenance": [],
      "machine_shape": "hm"
    },
    "kernelspec": {
      "name": "python3",
      "display_name": "Python 3"
    },
    "language_info": {
      "name": "python"
    },
    "accelerator": "GPU",
    "gpuClass": "standard"
  },
  "cells": [
    {
      "cell_type": "code",
      "execution_count": 4,
      "metadata": {
        "colab": {
          "base_uri": "https://localhost:8080/",
          "height": 1000
        },
        "id": "zbBYTumxcm-r",
        "outputId": "4ca6f5b5-fa9a-4d85-a184-f31b9ef01bef"
      },
      "outputs": [
        {
          "output_type": "stream",
          "name": "stdout",
          "text": [
            "Looking in indexes: https://pypi.org/simple, https://us-python.pkg.dev/colab-wheels/public/simple/\n",
            "Collecting ogb\n",
            "  Downloading ogb-1.3.5-py3-none-any.whl (78 kB)\n",
            "\u001b[2K     \u001b[90m━━━━━━━━━━━━━━━━━━━━━━━━━━━━━━━━━━━━━━━━\u001b[0m \u001b[32m78.6/78.6 KB\u001b[0m \u001b[31m3.8 MB/s\u001b[0m eta \u001b[36m0:00:00\u001b[0m\n",
            "\u001b[?25hRequirement already satisfied: pandas>=0.24.0 in /usr/local/lib/python3.8/dist-packages (from ogb) (1.3.5)\n",
            "Requirement already satisfied: six>=1.12.0 in /usr/local/lib/python3.8/dist-packages (from ogb) (1.15.0)\n",
            "Requirement already satisfied: numpy>=1.16.0 in /usr/local/lib/python3.8/dist-packages (from ogb) (1.21.6)\n",
            "Requirement already satisfied: tqdm>=4.29.0 in /usr/local/lib/python3.8/dist-packages (from ogb) (4.64.1)\n",
            "Requirement already satisfied: urllib3>=1.24.0 in /usr/local/lib/python3.8/dist-packages (from ogb) (1.24.3)\n",
            "Collecting outdated>=0.2.0\n",
            "  Downloading outdated-0.2.2-py2.py3-none-any.whl (7.5 kB)\n",
            "Requirement already satisfied: scikit-learn>=0.20.0 in /usr/local/lib/python3.8/dist-packages (from ogb) (1.0.2)\n",
            "Requirement already satisfied: torch>=1.6.0 in /usr/local/lib/python3.8/dist-packages (from ogb) (1.13.1+cu116)\n",
            "Requirement already satisfied: setuptools>=44 in /usr/local/lib/python3.8/dist-packages (from outdated>=0.2.0->ogb) (57.4.0)\n",
            "Requirement already satisfied: requests in /usr/local/lib/python3.8/dist-packages (from outdated>=0.2.0->ogb) (2.25.1)\n",
            "Collecting littleutils\n",
            "  Downloading littleutils-0.2.2.tar.gz (6.6 kB)\n",
            "  Preparing metadata (setup.py) ... \u001b[?25l\u001b[?25hdone\n",
            "Requirement already satisfied: pytz>=2017.3 in /usr/local/lib/python3.8/dist-packages (from pandas>=0.24.0->ogb) (2022.7)\n",
            "Requirement already satisfied: python-dateutil>=2.7.3 in /usr/local/lib/python3.8/dist-packages (from pandas>=0.24.0->ogb) (2.8.2)\n",
            "Requirement already satisfied: scipy>=1.1.0 in /usr/local/lib/python3.8/dist-packages (from scikit-learn>=0.20.0->ogb) (1.7.3)\n",
            "Requirement already satisfied: joblib>=0.11 in /usr/local/lib/python3.8/dist-packages (from scikit-learn>=0.20.0->ogb) (1.2.0)\n",
            "Requirement already satisfied: threadpoolctl>=2.0.0 in /usr/local/lib/python3.8/dist-packages (from scikit-learn>=0.20.0->ogb) (3.1.0)\n",
            "Requirement already satisfied: typing-extensions in /usr/local/lib/python3.8/dist-packages (from torch>=1.6.0->ogb) (4.4.0)\n",
            "Requirement already satisfied: chardet<5,>=3.0.2 in /usr/local/lib/python3.8/dist-packages (from requests->outdated>=0.2.0->ogb) (4.0.0)\n",
            "Requirement already satisfied: idna<3,>=2.5 in /usr/local/lib/python3.8/dist-packages (from requests->outdated>=0.2.0->ogb) (2.10)\n",
            "Requirement already satisfied: certifi>=2017.4.17 in /usr/local/lib/python3.8/dist-packages (from requests->outdated>=0.2.0->ogb) (2022.12.7)\n",
            "Building wheels for collected packages: littleutils\n",
            "  Building wheel for littleutils (setup.py) ... \u001b[?25l\u001b[?25hdone\n",
            "  Created wheel for littleutils: filename=littleutils-0.2.2-py3-none-any.whl size=7047 sha256=3e75e954fa4cc453c9f0cd5281fd6c88ca3c56e098d51714117ba58bdee349c4\n",
            "  Stored in directory: /root/.cache/pip/wheels/6a/33/c4/0ef84d7f5568c2823e3d63a6e08988852fb9e4bc822034870a\n",
            "Successfully built littleutils\n",
            "Installing collected packages: littleutils, outdated, ogb\n",
            "Successfully installed littleutils-0.2.2 ogb-1.3.5 outdated-0.2.2\n",
            "1.13.1+cu116\n",
            "11.6\n",
            "Looking in indexes: https://pypi.org/simple, https://us-python.pkg.dev/colab-wheels/public/simple/\n",
            "Looking in links: https://pytorch-geometric.com/whl/torch-1.13.0+cu116.html\n",
            "Collecting torch-scatter\n",
            "  Downloading https://data.pyg.org/whl/torch-1.13.0%2Bcu116/torch_scatter-2.1.0%2Bpt113cu116-cp38-cp38-linux_x86_64.whl (9.4 MB)\n",
            "\u001b[2K     \u001b[90m━━━━━━━━━━━━━━━━━━━━━━━━━━━━━━━━━━━━━━━━\u001b[0m \u001b[32m9.4/9.4 MB\u001b[0m \u001b[31m43.3 MB/s\u001b[0m eta \u001b[36m0:00:00\u001b[0m\n",
            "\u001b[?25hInstalling collected packages: torch-scatter\n",
            "Successfully installed torch-scatter-2.1.0+pt113cu116\n",
            "Looking in indexes: https://pypi.org/simple, https://us-python.pkg.dev/colab-wheels/public/simple/\n",
            "Looking in links: https://pytorch-geometric.com/whl/torch-1.13.0+cu116.html\n",
            "Collecting torch-sparse\n",
            "  Downloading https://data.pyg.org/whl/torch-1.13.0%2Bcu116/torch_sparse-0.6.16%2Bpt113cu116-cp38-cp38-linux_x86_64.whl (4.5 MB)\n",
            "\u001b[2K     \u001b[90m━━━━━━━━━━━━━━━━━━━━━━━━━━━━━━━━━━━━━━━━\u001b[0m \u001b[32m4.5/4.5 MB\u001b[0m \u001b[31m24.9 MB/s\u001b[0m eta \u001b[36m0:00:00\u001b[0m\n",
            "\u001b[?25hRequirement already satisfied: scipy in /usr/local/lib/python3.8/dist-packages (from torch-sparse) (1.7.3)\n",
            "Requirement already satisfied: numpy<1.23.0,>=1.16.5 in /usr/local/lib/python3.8/dist-packages (from scipy->torch-sparse) (1.21.6)\n",
            "Installing collected packages: torch-sparse\n",
            "Successfully installed torch-sparse-0.6.16+pt113cu116\n",
            "Looking in indexes: https://pypi.org/simple, https://us-python.pkg.dev/colab-wheels/public/simple/\n",
            "Collecting torch-geometric\n",
            "  Downloading torch_geometric-2.2.0.tar.gz (564 kB)\n",
            "\u001b[2K     \u001b[90m━━━━━━━━━━━━━━━━━━━━━━━━━━━━━━━━━━━━━━\u001b[0m \u001b[32m565.0/565.0 KB\u001b[0m \u001b[31m11.8 MB/s\u001b[0m eta \u001b[36m0:00:00\u001b[0m\n",
            "\u001b[?25h  Preparing metadata (setup.py) ... \u001b[?25l\u001b[?25hdone\n",
            "Requirement already satisfied: tqdm in /usr/local/lib/python3.8/dist-packages (from torch-geometric) (4.64.1)\n",
            "Requirement already satisfied: numpy in /usr/local/lib/python3.8/dist-packages (from torch-geometric) (1.21.6)\n",
            "Requirement already satisfied: scipy in /usr/local/lib/python3.8/dist-packages (from torch-geometric) (1.7.3)\n",
            "Requirement already satisfied: jinja2 in /usr/local/lib/python3.8/dist-packages (from torch-geometric) (2.11.3)\n",
            "Requirement already satisfied: requests in /usr/local/lib/python3.8/dist-packages (from torch-geometric) (2.25.1)\n",
            "Requirement already satisfied: pyparsing in /usr/local/lib/python3.8/dist-packages (from torch-geometric) (3.0.9)\n",
            "Requirement already satisfied: scikit-learn in /usr/local/lib/python3.8/dist-packages (from torch-geometric) (1.0.2)\n",
            "Collecting psutil>=5.8.0\n",
            "  Downloading psutil-5.9.4-cp36-abi3-manylinux_2_12_x86_64.manylinux2010_x86_64.manylinux_2_17_x86_64.manylinux2014_x86_64.whl (280 kB)\n",
            "\u001b[2K     \u001b[90m━━━━━━━━━━━━━━━━━━━━━━━━━━━━━━━━━━━━━━\u001b[0m \u001b[32m280.2/280.2 KB\u001b[0m \u001b[31m33.5 MB/s\u001b[0m eta \u001b[36m0:00:00\u001b[0m\n",
            "\u001b[?25hRequirement already satisfied: MarkupSafe>=0.23 in /usr/local/lib/python3.8/dist-packages (from jinja2->torch-geometric) (2.0.1)\n",
            "Requirement already satisfied: chardet<5,>=3.0.2 in /usr/local/lib/python3.8/dist-packages (from requests->torch-geometric) (4.0.0)\n",
            "Requirement already satisfied: urllib3<1.27,>=1.21.1 in /usr/local/lib/python3.8/dist-packages (from requests->torch-geometric) (1.24.3)\n",
            "Requirement already satisfied: certifi>=2017.4.17 in /usr/local/lib/python3.8/dist-packages (from requests->torch-geometric) (2022.12.7)\n",
            "Requirement already satisfied: idna<3,>=2.5 in /usr/local/lib/python3.8/dist-packages (from requests->torch-geometric) (2.10)\n",
            "Requirement already satisfied: threadpoolctl>=2.0.0 in /usr/local/lib/python3.8/dist-packages (from scikit-learn->torch-geometric) (3.1.0)\n",
            "Requirement already satisfied: joblib>=0.11 in /usr/local/lib/python3.8/dist-packages (from scikit-learn->torch-geometric) (1.2.0)\n",
            "Building wheels for collected packages: torch-geometric\n",
            "  Building wheel for torch-geometric (setup.py) ... \u001b[?25l\u001b[?25hdone\n",
            "  Created wheel for torch-geometric: filename=torch_geometric-2.2.0-py3-none-any.whl size=773302 sha256=c111752313163f69a02cb671b955c2f6f4921fe41a617072cc3a9708942a3096\n",
            "  Stored in directory: /root/.cache/pip/wheels/59/a3/20/198928106d3169865ae73afcbd3d3d1796cf6b429b55c65378\n",
            "Successfully built torch-geometric\n",
            "Installing collected packages: psutil, torch-geometric\n",
            "  Attempting uninstall: psutil\n",
            "    Found existing installation: psutil 5.4.8\n",
            "    Uninstalling psutil-5.4.8:\n",
            "      Successfully uninstalled psutil-5.4.8\n",
            "Successfully installed psutil-5.9.4 torch-geometric-2.2.0\n"
          ]
        },
        {
          "output_type": "display_data",
          "data": {
            "application/vnd.colab-display-data+json": {
              "pip_warning": {
                "packages": [
                  "psutil"
                ]
              }
            }
          },
          "metadata": {}
        },
        {
          "output_type": "stream",
          "name": "stdout",
          "text": [
            "  Preparing metadata (setup.py) ... \u001b[?25l\u001b[?25hdone\n",
            "  Building wheel for deepsnap (setup.py) ... \u001b[?25l\u001b[?25hdone\n"
          ]
        }
      ],
      "source": [
        "!pip install ogb\n",
        "!python -c \"import torch; print(torch.__version__)\"\n",
        "!python -c \"import torch; print(torch.version.cuda)\"\n",
        "\n",
        "!pip install torch-scatter -f https://pytorch-geometric.com/whl/torch-1.13.0+cu116.html\n",
        "!pip install torch-sparse -f https://pytorch-geometric.com/whl/torch-1.13.0+cu116.html\n",
        "!pip install torch-geometric\n",
        "\n",
        "!pip install -q git+https://github.com/snap-stanford/deepsnap.git"
      ]
    },
    {
      "cell_type": "code",
      "source": [
        "from google.colab import drive\n",
        "drive.mount('/content/drive')"
      ],
      "metadata": {
        "colab": {
          "base_uri": "https://localhost:8080/"
        },
        "id": "BLGXKkwdFhX8",
        "outputId": "7e0e4cdb-01a1-4545-9dd3-994a5b03ff44"
      },
      "execution_count": 1,
      "outputs": [
        {
          "output_type": "stream",
          "name": "stdout",
          "text": [
            "Drive already mounted at /content/drive; to attempt to forcibly remount, call drive.mount(\"/content/drive\", force_remount=True).\n"
          ]
        }
      ]
    },
    {
      "cell_type": "code",
      "source": [
        "from ogb.linkproppred import LinkPropPredDataset\n",
        "from deepsnap.dataset import GraphDataset\n",
        "from deepsnap.hetero_graph import HeteroGraph\n",
        "import numpy as np\n",
        "import networkx as nx\n",
        "import torch\n",
        "import torch.nn as nn\n",
        "import torch.nn.functional as F\n",
        "from deepsnap.hetero_gnn import forward_op, HeteroConv\n",
        "import numpy as np\n",
        "import copy"
      ],
      "metadata": {
        "id": "FwvzbGwUerXg"
      },
      "execution_count": 5,
      "outputs": []
    },
    {
      "cell_type": "code",
      "source": [
        "dataset = LinkPropPredDataset(name = \"ogbl-biokg\", root = '/content/drive/MyDrive/biodataset/')\n",
        "graph = dataset[0]\n",
        "split_edge = dataset.get_edge_split()\n",
        "\n",
        "split_edge.keys()"
      ],
      "metadata": {
        "id": "17g0HGuMFha1",
        "colab": {
          "base_uri": "https://localhost:8080/"
        },
        "outputId": "3c22eebd-68be-4592-fe76-a473b3ba0b05"
      },
      "execution_count": 10,
      "outputs": [
        {
          "output_type": "execute_result",
          "data": {
            "text/plain": [
              "dict_keys(['train', 'valid', 'test'])"
            ]
          },
          "metadata": {},
          "execution_count": 10
        }
      ]
    },
    {
      "cell_type": "code",
      "source": [
        "# Construct relation types and node types\n",
        "relation_mapping = {}\n",
        "relation_inv_mapping = {}\n",
        "node_types = {}\n",
        "\n",
        "for rel in graph['edge_reltype']:\n",
        "  k = graph['edge_reltype'][rel][0][0]\n",
        "\n",
        "  if rel[0] not in node_types:\n",
        "    node_types[rel[0]] = len(node_types)\n",
        "\n",
        "  if rel[2] not in node_types:\n",
        "    node_types[rel[2]] = len(node_types)\n",
        "\n",
        "  if k not in relation_mapping:\n",
        "    relation_mapping[k] = rel\n",
        "    relation_inv_mapping[rel] = k\n",
        "\n",
        "print(\"number of relations : \", len(relation_mapping))\n",
        "print(\"number of node types : \", len(node_types))"
      ],
      "metadata": {
        "id": "UlcZ0LylHSxt",
        "colab": {
          "base_uri": "https://localhost:8080/"
        },
        "outputId": "5783b0bb-2f11-4d27-d2b9-e0910c1084de"
      },
      "execution_count": 11,
      "outputs": [
        {
          "output_type": "stream",
          "name": "stdout",
          "text": [
            "number of relations :  51\n",
            "number of node types :  5\n"
          ]
        }
      ]
    },
    {
      "cell_type": "code",
      "source": [
        "G = nx.MultiDiGraph()\n",
        "node_ids = {}\n",
        "node_id_cnt = 0\n",
        "\n",
        "def process_graph(p_node_ids, p_node_types, p_relation):\n",
        "\n",
        "    src_feats = torch.zeros(len(node_types))\n",
        "    src_feats[node_types[p_node_types[0]]] = 1.0\n",
        "\n",
        "    dst_feats = torch.zeros(len(node_types))\n",
        "    dst_feats[node_types[p_node_types[1]]] = 1.0\n",
        "\n",
        "    relation_idx = relation_inv_mapping[p_relation]\n",
        "    rel_feats = torch.zeros(len(relation_mapping))\n",
        "    rel_feats[relation_idx] = 1.0\n",
        "\n",
        "    if p_node_ids[0] not in G:\n",
        "      G.add_node(p_node_ids[0], node_type=p_node_types[0], node_feature=src_feats)\n",
        "      \n",
        "    if p_node_ids[1] not in G:\n",
        "      G.add_node(p_node_ids[1], node_type=p_node_types[1], node_feature=dst_feats)\n",
        "    \n",
        "    G.add_edge(p_node_ids[0], p_node_ids[1], edge_type=p_relation[1], edge_feature=rel_feats)\n",
        "\n",
        "\n",
        "def process_dataset_splits(split_type):\n",
        "  '''\n",
        "  Input is split_edge & split_type\n",
        "  '''\n",
        "  global node_id_cnt\n",
        "  n_triplets = len(split_edge[split_type]['head'])\n",
        "\n",
        "  for idx in range(n_triplets):\n",
        "\n",
        "    src, dst = split_edge[split_type]['head'][idx], split_edge[split_type]['tail'][idx]\n",
        "    src_node_type, dst_node_type = split_edge[split_type]['head_type'][idx], split_edge[split_type]['tail_type'][idx]\n",
        "    msg = relation_mapping[split_edge[split_type]['relation'][idx]]\n",
        "    src_node_key = src_node_type + \"_\" + str(src)\n",
        "    dst_node_key = dst_node_type + \"_\" + str(dst)\n",
        "\n",
        "\n",
        "    if src_node_key not in node_ids:\n",
        "        node_ids[src_node_key] = node_id_cnt\n",
        "        node_id_cnt += 1\n",
        "\n",
        "    if dst_node_key not in node_ids:\n",
        "      node_ids[dst_node_key] = node_id_cnt\n",
        "      node_id_cnt += 1\n",
        "\n",
        "    process_graph((node_ids[src_node_key], node_ids[dst_node_key]), \\\n",
        "                  (src_node_type, dst_node_type), msg)\n",
        "\n",
        "process_dataset_splits('train')\n",
        "print(\"Graph node size: \", len(G))\n",
        "print(\"num of edges: \", G.number_of_edges())\n",
        "\n",
        "process_dataset_splits('valid')\n",
        "print(\"Graph node size: \", len(G))\n",
        "print(\"num of edges: \", G.number_of_edges())\n",
        "\n",
        "process_dataset_splits('test')\n",
        "print(\"Graph node size: \", len(G))\n",
        "print(\"num of edges: \", G.number_of_edges())"
      ],
      "metadata": {
        "id": "9WyBPVvVIJeK",
        "colab": {
          "base_uri": "https://localhost:8080/"
        },
        "outputId": "7f1edf42-b121-4598-cc5c-abe84e9ec121"
      },
      "execution_count": 12,
      "outputs": [
        {
          "output_type": "stream",
          "name": "stdout",
          "text": [
            "Graph node size:  93773\n",
            "num of edges:  4762678\n",
            "Graph node size:  93773\n",
            "num of edges:  4925564\n",
            "Graph node size:  93773\n",
            "num of edges:  5088434\n"
          ]
        }
      ]
    },
    {
      "cell_type": "code",
      "source": [
        "temp = {}\n",
        "for n, attrs in G.nodes(data=True):\n",
        "  if attrs['node_type'] not in temp:\n",
        "    temp[attrs['node_type']] = 1\n",
        "  else:\n",
        "    temp[attrs['node_type']] += 1\n",
        "\n",
        "temp"
      ],
      "metadata": {
        "id": "8AUpPHKtZUTt",
        "colab": {
          "base_uri": "https://localhost:8080/"
        },
        "outputId": "379f4df3-4e77-42f2-9606-b4411d99eb18"
      },
      "execution_count": 13,
      "outputs": [
        {
          "output_type": "execute_result",
          "data": {
            "text/plain": [
              "{'disease': 10687,\n",
              " 'protein': 17499,\n",
              " 'drug': 10533,\n",
              " 'sideeffect': 9969,\n",
              " 'function': 45085}"
            ]
          },
          "metadata": {},
          "execution_count": 13
        }
      ]
    },
    {
      "cell_type": "code",
      "source": [
        "#nx.write_gpickle(G, \"/content/drive/MyDrive/biokg_graph.gpickle\")"
      ],
      "metadata": {
        "id": "Vk8Y9zFichDD"
      },
      "execution_count": 7,
      "outputs": []
    },
    {
      "cell_type": "markdown",
      "source": [
        "Read Graph object stored in pickle format."
      ],
      "metadata": {
        "id": "Krn_hVFXdTEZ"
      }
    },
    {
      "cell_type": "code",
      "source": [
        "# G = nx.read_gpickle(\"/content/drive/MyDrive/biokg_graph.gpickle\")\n",
        "# print(\"graph type: \", type(G))\n",
        "# print(\"Graph node size: \", len(G))\n",
        "# print(\"num of edges: \", G.number_of_edges())"
      ],
      "metadata": {
        "id": "83CX4eXqcuny"
      },
      "execution_count": 9,
      "outputs": []
    },
    {
      "cell_type": "code",
      "source": [
        "print(\"input graph type: \", type(G))\n",
        "hete = HeteroGraph(G)\n",
        "hete"
      ],
      "metadata": {
        "id": "K0TgoealwFWc",
        "colab": {
          "base_uri": "https://localhost:8080/"
        },
        "outputId": "a914b5e6-0042-4321-a5ba-85799ffeff0e"
      },
      "execution_count": 14,
      "outputs": [
        {
          "output_type": "stream",
          "name": "stdout",
          "text": [
            "input graph type:  <class 'networkx.classes.multidigraph.MultiDiGraph'>\n"
          ]
        },
        {
          "output_type": "execute_result",
          "data": {
            "text/plain": [
              "HeteroGraph(G=[], edge_feature=[], edge_index=[], edge_label_index=[], edge_to_graph_mapping=[], edge_to_tensor_mapping=[5088434], edge_type=[], node_feature=[], node_label_index=[], node_to_graph_mapping=[], node_to_tensor_mapping=[93773], node_type=[])"
            ]
          },
          "metadata": {},
          "execution_count": 14
        }
      ]
    },
    {
      "cell_type": "code",
      "source": [
        "# deleting to reduce the memory\n",
        "del G"
      ],
      "metadata": {
        "id": "dFOt3IGjGAtT"
      },
      "execution_count": 15,
      "outputs": []
    },
    {
      "cell_type": "code",
      "source": [
        "graph_dataset = GraphDataset([hete], task='link_pred', \\\n",
        "                             edge_train_mode=\"disjoint\", edge_message_ratio=0.85,)\n",
        "# Splitting the dataset\n",
        "dataset_train, dataset_val, dataset_test = graph_dataset.split(transductive=True, split_ratio=[0.8, 0.1, 0.1])"
      ],
      "metadata": {
        "id": "q9YEjxAXnhzI"
      },
      "execution_count": 16,
      "outputs": []
    },
    {
      "cell_type": "code",
      "source": [
        "for node in hete.G.nodes(data=True):\n",
        "    print(node)\n",
        "    break\n",
        "for edge in hete.G.edges(data=True):\n",
        "    print(edge)\n",
        "    break"
      ],
      "metadata": {
        "id": "WENG4Jdj1SuF",
        "colab": {
          "base_uri": "https://localhost:8080/"
        },
        "outputId": "67b20242-9136-4724-f7c4-50abd7e46236"
      },
      "execution_count": 17,
      "outputs": [
        {
          "output_type": "stream",
          "name": "stdout",
          "text": [
            "(0, {'node_type': 'disease', 'node_feature': tensor([1., 0., 0., 0., 0.])})\n",
            "(0, 1, {'edge_type': 'disease-protein', 'edge_feature': tensor([1., 0., 0., 0., 0., 0., 0., 0., 0., 0., 0., 0., 0., 0., 0., 0., 0., 0.,\n",
            "        0., 0., 0., 0., 0., 0., 0., 0., 0., 0., 0., 0., 0., 0., 0., 0., 0., 0.,\n",
            "        0., 0., 0., 0., 0., 0., 0., 0., 0., 0., 0., 0., 0., 0., 0.])})\n"
          ]
        }
      ]
    },
    {
      "cell_type": "code",
      "source": [
        "rel = ('drug', 'drug-sideeffect', 'sideeffect')\n",
        "print(dataset_train[0].edge_index[rel].shape)\n",
        "print(dataset_train[0].edge_label_index[rel].shape)\n",
        "print(dataset_train[0].edge_label[rel].shape)"
      ],
      "metadata": {
        "id": "Iuj9tqWV4NOc",
        "colab": {
          "base_uri": "https://localhost:8080/"
        },
        "outputId": "c9b3b9f3-716b-484e-8a18-194d771c9603"
      },
      "execution_count": 18,
      "outputs": [
        {
          "output_type": "stream",
          "name": "stdout",
          "text": [
            "torch.Size([2, 118828])\n",
            "torch.Size([2, 41940])\n",
            "torch.Size([41940])\n"
          ]
        }
      ]
    },
    {
      "cell_type": "markdown",
      "source": [
        "Graph initialization and training "
      ],
      "metadata": {
        "id": "uWcU7ARwY983"
      }
    },
    {
      "cell_type": "code",
      "source": [
        "# Functions to generate two internal GNN layers for link prediction task\n",
        "def generate_2convs_link_pred_layers(hete, conv, hidden_size):\n",
        "    convs1 = {}\n",
        "    convs2 = {}\n",
        "    for message_type in hete.message_types:\n",
        "        n_type = message_type[0]\n",
        "        s_type = message_type[2]\n",
        "        n_feat_dim = hete.num_node_features(n_type)\n",
        "        s_feat_dim = hete.num_node_features(s_type)\n",
        "        convs1[message_type] = conv(n_feat_dim, hidden_size, s_feat_dim)\n",
        "        convs2[message_type] = conv(hidden_size, hidden_size, hidden_size)\n",
        "    return convs1, convs2"
      ],
      "metadata": {
        "id": "I7H1Xp692dki"
      },
      "execution_count": 19,
      "outputs": []
    },
    {
      "cell_type": "code",
      "source": [
        "from pprint import pprint\n",
        "from deepsnap.hetero_graph import HeteroGraph\n",
        "from deepsnap.dataset import GraphDataset\n",
        "from deepsnap.batch import Batch\n",
        "from deepsnap.hetero_gnn import HeteroSAGEConv\n",
        "from torch.utils.data import DataLoader\n",
        "\n",
        "hidden_size = 128\n",
        "\n",
        "# Generate two heterogeneous GNN layers for link prediction\n",
        "conv1, conv2 = generate_2convs_link_pred_layers(hete, HeteroSAGEConv, hidden_size)\n",
        "pprint(conv1)\n",
        "pprint(conv2)\n",
        "\n",
        "train_loader = DataLoader(dataset_train, collate_fn=Batch.collate(),\n",
        "                    batch_size=1)\n",
        "val_loader = DataLoader(dataset_val, collate_fn=Batch.collate(),\n",
        "                    batch_size=1)\n",
        "test_loader = DataLoader(dataset_test, collate_fn=Batch.collate(),\n",
        "                    batch_size=1)\n",
        "dataloaders = {'train': train_loader, 'val': val_loader, 'test': test_loader}"
      ],
      "metadata": {
        "id": "kVjNAUPg75kt",
        "colab": {
          "base_uri": "https://localhost:8080/"
        },
        "outputId": "502a9957-728d-4e48-fd41-55f3f0791818"
      },
      "execution_count": 20,
      "outputs": [
        {
          "output_type": "stream",
          "name": "stdout",
          "text": [
            "{('disease', 'disease-protein', 'protein'): HeteroSAGEConv(neigh: 5, self: 5, out: 256),\n",
            " ('drug', 'drug-disease', 'disease'): HeteroSAGEConv(neigh: 5, self: 5, out: 256),\n",
            " ('drug', 'drug-drug_acquired_metabolic_disease', 'drug'): HeteroSAGEConv(neigh: 5, self: 5, out: 256),\n",
            " ('drug', 'drug-drug_bacterial_infectious_disease', 'drug'): HeteroSAGEConv(neigh: 5, self: 5, out: 256),\n",
            " ('drug', 'drug-drug_benign_neoplasm', 'drug'): HeteroSAGEConv(neigh: 5, self: 5, out: 256),\n",
            " ('drug', 'drug-drug_cancer', 'drug'): HeteroSAGEConv(neigh: 5, self: 5, out: 256),\n",
            " ('drug', 'drug-drug_cardiovascular_system_disease', 'drug'): HeteroSAGEConv(neigh: 5, self: 5, out: 256),\n",
            " ('drug', 'drug-drug_chromosomal_disease', 'drug'): HeteroSAGEConv(neigh: 5, self: 5, out: 256),\n",
            " ('drug', 'drug-drug_cognitive_disorder', 'drug'): HeteroSAGEConv(neigh: 5, self: 5, out: 256),\n",
            " ('drug', 'drug-drug_cryptorchidism', 'drug'): HeteroSAGEConv(neigh: 5, self: 5, out: 256),\n",
            " ('drug', 'drug-drug_developmental_disorder_of_mental_health', 'drug'): HeteroSAGEConv(neigh: 5, self: 5, out: 256),\n",
            " ('drug', 'drug-drug_endocrine_system_disease', 'drug'): HeteroSAGEConv(neigh: 5, self: 5, out: 256),\n",
            " ('drug', 'drug-drug_fungal_infectious_disease', 'drug'): HeteroSAGEConv(neigh: 5, self: 5, out: 256),\n",
            " ('drug', 'drug-drug_gastrointestinal_system_disease', 'drug'): HeteroSAGEConv(neigh: 5, self: 5, out: 256),\n",
            " ('drug', 'drug-drug_hematopoietic_system_disease', 'drug'): HeteroSAGEConv(neigh: 5, self: 5, out: 256),\n",
            " ('drug', 'drug-drug_hematopoietic_system_diseases', 'drug'): HeteroSAGEConv(neigh: 5, self: 5, out: 256),\n",
            " ('drug', 'drug-drug_hypospadias', 'drug'): HeteroSAGEConv(neigh: 5, self: 5, out: 256),\n",
            " ('drug', 'drug-drug_immune_system_disease', 'drug'): HeteroSAGEConv(neigh: 5, self: 5, out: 256),\n",
            " ('drug', 'drug-drug_inherited_metabolic_disorder', 'drug'): HeteroSAGEConv(neigh: 5, self: 5, out: 256),\n",
            " ('drug', 'drug-drug_integumentary_system_disease', 'drug'): HeteroSAGEConv(neigh: 5, self: 5, out: 256),\n",
            " ('drug', 'drug-drug_irritable_bowel_syndrome', 'drug'): HeteroSAGEConv(neigh: 5, self: 5, out: 256),\n",
            " ('drug', 'drug-drug_monogenic_disease', 'drug'): HeteroSAGEConv(neigh: 5, self: 5, out: 256),\n",
            " ('drug', 'drug-drug_musculoskeletal_system_disease', 'drug'): HeteroSAGEConv(neigh: 5, self: 5, out: 256),\n",
            " ('drug', 'drug-drug_nervous_system_disease', 'drug'): HeteroSAGEConv(neigh: 5, self: 5, out: 256),\n",
            " ('drug', 'drug-drug_orofacial_cleft', 'drug'): HeteroSAGEConv(neigh: 5, self: 5, out: 256),\n",
            " ('drug', 'drug-drug_parasitic_infectious_disease', 'drug'): HeteroSAGEConv(neigh: 5, self: 5, out: 256),\n",
            " ('drug', 'drug-drug_personality_disorder', 'drug'): HeteroSAGEConv(neigh: 5, self: 5, out: 256),\n",
            " ('drug', 'drug-drug_polycystic_ovary_syndrome', 'drug'): HeteroSAGEConv(neigh: 5, self: 5, out: 256),\n",
            " ('drug', 'drug-drug_pre-malignant_neoplasm', 'drug'): HeteroSAGEConv(neigh: 5, self: 5, out: 256),\n",
            " ('drug', 'drug-drug_psoriatic_arthritis', 'drug'): HeteroSAGEConv(neigh: 5, self: 5, out: 256),\n",
            " ('drug', 'drug-drug_reproductive_system_disease', 'drug'): HeteroSAGEConv(neigh: 5, self: 5, out: 256),\n",
            " ('drug', 'drug-drug_respiratory_system_disease', 'drug'): HeteroSAGEConv(neigh: 5, self: 5, out: 256),\n",
            " ('drug', 'drug-drug_sexual_disorder', 'drug'): HeteroSAGEConv(neigh: 5, self: 5, out: 256),\n",
            " ('drug', 'drug-drug_sleep_disorder', 'drug'): HeteroSAGEConv(neigh: 5, self: 5, out: 256),\n",
            " ('drug', 'drug-drug_somatoform_disorder', 'drug'): HeteroSAGEConv(neigh: 5, self: 5, out: 256),\n",
            " ('drug', 'drug-drug_struct_sim', 'drug'): HeteroSAGEConv(neigh: 5, self: 5, out: 256),\n",
            " ('drug', 'drug-drug_substance-related_disorder', 'drug'): HeteroSAGEConv(neigh: 5, self: 5, out: 256),\n",
            " ('drug', 'drug-drug_thoracic_disease', 'drug'): HeteroSAGEConv(neigh: 5, self: 5, out: 256),\n",
            " ('drug', 'drug-drug_urinary_system_disease', 'drug'): HeteroSAGEConv(neigh: 5, self: 5, out: 256),\n",
            " ('drug', 'drug-drug_viral_infectious_disease', 'drug'): HeteroSAGEConv(neigh: 5, self: 5, out: 256),\n",
            " ('drug', 'drug-protein', 'protein'): HeteroSAGEConv(neigh: 5, self: 5, out: 256),\n",
            " ('drug', 'drug-sideeffect', 'sideeffect'): HeteroSAGEConv(neigh: 5, self: 5, out: 256),\n",
            " ('function', 'function-function', 'function'): HeteroSAGEConv(neigh: 5, self: 5, out: 256),\n",
            " ('protein', 'protein-function', 'function'): HeteroSAGEConv(neigh: 5, self: 5, out: 256),\n",
            " ('protein', 'protein-protein_activation', 'protein'): HeteroSAGEConv(neigh: 5, self: 5, out: 256),\n",
            " ('protein', 'protein-protein_binding', 'protein'): HeteroSAGEConv(neigh: 5, self: 5, out: 256),\n",
            " ('protein', 'protein-protein_catalysis', 'protein'): HeteroSAGEConv(neigh: 5, self: 5, out: 256),\n",
            " ('protein', 'protein-protein_expression', 'protein'): HeteroSAGEConv(neigh: 5, self: 5, out: 256),\n",
            " ('protein', 'protein-protein_inhibition', 'protein'): HeteroSAGEConv(neigh: 5, self: 5, out: 256),\n",
            " ('protein', 'protein-protein_ptmod', 'protein'): HeteroSAGEConv(neigh: 5, self: 5, out: 256),\n",
            " ('protein', 'protein-protein_reaction', 'protein'): HeteroSAGEConv(neigh: 5, self: 5, out: 256)}\n",
            "{('disease', 'disease-protein', 'protein'): HeteroSAGEConv(neigh: 256, self: 256, out: 256),\n",
            " ('drug', 'drug-disease', 'disease'): HeteroSAGEConv(neigh: 256, self: 256, out: 256),\n",
            " ('drug', 'drug-drug_acquired_metabolic_disease', 'drug'): HeteroSAGEConv(neigh: 256, self: 256, out: 256),\n",
            " ('drug', 'drug-drug_bacterial_infectious_disease', 'drug'): HeteroSAGEConv(neigh: 256, self: 256, out: 256),\n",
            " ('drug', 'drug-drug_benign_neoplasm', 'drug'): HeteroSAGEConv(neigh: 256, self: 256, out: 256),\n",
            " ('drug', 'drug-drug_cancer', 'drug'): HeteroSAGEConv(neigh: 256, self: 256, out: 256),\n",
            " ('drug', 'drug-drug_cardiovascular_system_disease', 'drug'): HeteroSAGEConv(neigh: 256, self: 256, out: 256),\n",
            " ('drug', 'drug-drug_chromosomal_disease', 'drug'): HeteroSAGEConv(neigh: 256, self: 256, out: 256),\n",
            " ('drug', 'drug-drug_cognitive_disorder', 'drug'): HeteroSAGEConv(neigh: 256, self: 256, out: 256),\n",
            " ('drug', 'drug-drug_cryptorchidism', 'drug'): HeteroSAGEConv(neigh: 256, self: 256, out: 256),\n",
            " ('drug', 'drug-drug_developmental_disorder_of_mental_health', 'drug'): HeteroSAGEConv(neigh: 256, self: 256, out: 256),\n",
            " ('drug', 'drug-drug_endocrine_system_disease', 'drug'): HeteroSAGEConv(neigh: 256, self: 256, out: 256),\n",
            " ('drug', 'drug-drug_fungal_infectious_disease', 'drug'): HeteroSAGEConv(neigh: 256, self: 256, out: 256),\n",
            " ('drug', 'drug-drug_gastrointestinal_system_disease', 'drug'): HeteroSAGEConv(neigh: 256, self: 256, out: 256),\n",
            " ('drug', 'drug-drug_hematopoietic_system_disease', 'drug'): HeteroSAGEConv(neigh: 256, self: 256, out: 256),\n",
            " ('drug', 'drug-drug_hematopoietic_system_diseases', 'drug'): HeteroSAGEConv(neigh: 256, self: 256, out: 256),\n",
            " ('drug', 'drug-drug_hypospadias', 'drug'): HeteroSAGEConv(neigh: 256, self: 256, out: 256),\n",
            " ('drug', 'drug-drug_immune_system_disease', 'drug'): HeteroSAGEConv(neigh: 256, self: 256, out: 256),\n",
            " ('drug', 'drug-drug_inherited_metabolic_disorder', 'drug'): HeteroSAGEConv(neigh: 256, self: 256, out: 256),\n",
            " ('drug', 'drug-drug_integumentary_system_disease', 'drug'): HeteroSAGEConv(neigh: 256, self: 256, out: 256),\n",
            " ('drug', 'drug-drug_irritable_bowel_syndrome', 'drug'): HeteroSAGEConv(neigh: 256, self: 256, out: 256),\n",
            " ('drug', 'drug-drug_monogenic_disease', 'drug'): HeteroSAGEConv(neigh: 256, self: 256, out: 256),\n",
            " ('drug', 'drug-drug_musculoskeletal_system_disease', 'drug'): HeteroSAGEConv(neigh: 256, self: 256, out: 256),\n",
            " ('drug', 'drug-drug_nervous_system_disease', 'drug'): HeteroSAGEConv(neigh: 256, self: 256, out: 256),\n",
            " ('drug', 'drug-drug_orofacial_cleft', 'drug'): HeteroSAGEConv(neigh: 256, self: 256, out: 256),\n",
            " ('drug', 'drug-drug_parasitic_infectious_disease', 'drug'): HeteroSAGEConv(neigh: 256, self: 256, out: 256),\n",
            " ('drug', 'drug-drug_personality_disorder', 'drug'): HeteroSAGEConv(neigh: 256, self: 256, out: 256),\n",
            " ('drug', 'drug-drug_polycystic_ovary_syndrome', 'drug'): HeteroSAGEConv(neigh: 256, self: 256, out: 256),\n",
            " ('drug', 'drug-drug_pre-malignant_neoplasm', 'drug'): HeteroSAGEConv(neigh: 256, self: 256, out: 256),\n",
            " ('drug', 'drug-drug_psoriatic_arthritis', 'drug'): HeteroSAGEConv(neigh: 256, self: 256, out: 256),\n",
            " ('drug', 'drug-drug_reproductive_system_disease', 'drug'): HeteroSAGEConv(neigh: 256, self: 256, out: 256),\n",
            " ('drug', 'drug-drug_respiratory_system_disease', 'drug'): HeteroSAGEConv(neigh: 256, self: 256, out: 256),\n",
            " ('drug', 'drug-drug_sexual_disorder', 'drug'): HeteroSAGEConv(neigh: 256, self: 256, out: 256),\n",
            " ('drug', 'drug-drug_sleep_disorder', 'drug'): HeteroSAGEConv(neigh: 256, self: 256, out: 256),\n",
            " ('drug', 'drug-drug_somatoform_disorder', 'drug'): HeteroSAGEConv(neigh: 256, self: 256, out: 256),\n",
            " ('drug', 'drug-drug_struct_sim', 'drug'): HeteroSAGEConv(neigh: 256, self: 256, out: 256),\n",
            " ('drug', 'drug-drug_substance-related_disorder', 'drug'): HeteroSAGEConv(neigh: 256, self: 256, out: 256),\n",
            " ('drug', 'drug-drug_thoracic_disease', 'drug'): HeteroSAGEConv(neigh: 256, self: 256, out: 256),\n",
            " ('drug', 'drug-drug_urinary_system_disease', 'drug'): HeteroSAGEConv(neigh: 256, self: 256, out: 256),\n",
            " ('drug', 'drug-drug_viral_infectious_disease', 'drug'): HeteroSAGEConv(neigh: 256, self: 256, out: 256),\n",
            " ('drug', 'drug-protein', 'protein'): HeteroSAGEConv(neigh: 256, self: 256, out: 256),\n",
            " ('drug', 'drug-sideeffect', 'sideeffect'): HeteroSAGEConv(neigh: 256, self: 256, out: 256),\n",
            " ('function', 'function-function', 'function'): HeteroSAGEConv(neigh: 256, self: 256, out: 256),\n",
            " ('protein', 'protein-function', 'function'): HeteroSAGEConv(neigh: 256, self: 256, out: 256),\n",
            " ('protein', 'protein-protein_activation', 'protein'): HeteroSAGEConv(neigh: 256, self: 256, out: 256),\n",
            " ('protein', 'protein-protein_binding', 'protein'): HeteroSAGEConv(neigh: 256, self: 256, out: 256),\n",
            " ('protein', 'protein-protein_catalysis', 'protein'): HeteroSAGEConv(neigh: 256, self: 256, out: 256),\n",
            " ('protein', 'protein-protein_expression', 'protein'): HeteroSAGEConv(neigh: 256, self: 256, out: 256),\n",
            " ('protein', 'protein-protein_inhibition', 'protein'): HeteroSAGEConv(neigh: 256, self: 256, out: 256),\n",
            " ('protein', 'protein-protein_ptmod', 'protein'): HeteroSAGEConv(neigh: 256, self: 256, out: 256),\n",
            " ('protein', 'protein-protein_reaction', 'protein'): HeteroSAGEConv(neigh: 256, self: 256, out: 256)}\n"
          ]
        }
      ]
    },
    {
      "cell_type": "code",
      "source": [
        "# Define the heterogeneous GNN for the link prediction task\n",
        "class HeteroGNN(torch.nn.Module):\n",
        "    def __init__(self, conv1, conv2, hetero, hidden_size):\n",
        "        super(HeteroGNN, self).__init__()\n",
        "        \n",
        "        self.convs1 = HeteroConv(conv1, aggr='add') # Wrap the heterogeneous GNN layers\n",
        "        self.convs2 = HeteroConv(conv2, aggr='add')\n",
        "        self.loss_fn = torch.nn.BCEWithLogitsLoss()\n",
        "        self.bns1 = nn.ModuleDict()\n",
        "        self.bns2 = nn.ModuleDict()\n",
        "        self.relus1 = nn.ModuleDict()\n",
        "        self.relus2 = nn.ModuleDict()\n",
        "        self.post_mps = nn.ModuleDict()\n",
        "\n",
        "        for node_type in hetero.node_types:\n",
        "            self.bns1[node_type] = torch.nn.BatchNorm1d(hidden_size)\n",
        "            self.bns2[node_type] = torch.nn.BatchNorm1d(hidden_size)\n",
        "            self.relus1[node_type] = nn.LeakyReLU()\n",
        "            self.relus2[node_type] = nn.LeakyReLU()\n",
        "\n",
        "    def forward(self, data):\n",
        "        x = data.node_feature\n",
        "        edge_index = data.edge_index\n",
        "        x = self.convs1(x, edge_index)\n",
        "        x = forward_op(x, self.bns1)\n",
        "        x = forward_op(x, self.relus1)\n",
        "        x = self.convs2(x, edge_index)\n",
        "        x = forward_op(x, self.bns2)\n",
        "\n",
        "        pred = {}\n",
        "        for message_type in data.edge_label_index:\n",
        "            src_type, dst_type = message_type[0], message_type[2]\n",
        "            nodes_first = torch.index_select(x[src_type], 0, data.edge_label_index[message_type][0,:].long())\n",
        "            nodes_second = torch.index_select(x[dst_type], 0, data.edge_label_index[message_type][1,:].long())\n",
        "            pred[message_type] = torch.sum(nodes_first * nodes_second, dim=-1)\n",
        "        return pred\n",
        "\n",
        "    def loss(self, pred, y):\n",
        "        loss = 0\n",
        "        for key in pred:\n",
        "            p = torch.sigmoid(pred[key])\n",
        "            loss += self.loss_fn(p, y[key].type(pred[key].dtype))\n",
        "        return loss"
      ],
      "metadata": {
        "id": "lYL6O4bw5gms"
      },
      "execution_count": 21,
      "outputs": []
    },
    {
      "cell_type": "code",
      "source": [
        "# Test function\n",
        "def test(model, dataloaders, args):\n",
        "    model.eval()\n",
        "    accs = {}\n",
        "    for mode, dataloader in dataloaders.items():\n",
        "        acc = 0\n",
        "        for i, batch in enumerate(dataloader):\n",
        "            num = 0\n",
        "            batch.to(args[\"device\"])\n",
        "            pred = model(batch)\n",
        "            for key in pred:\n",
        "                p = torch.sigmoid(pred[key]).cpu().detach().numpy()\n",
        "                pred_label = np.zeros_like(p, dtype=np.int64)\n",
        "                pred_label[np.where(p > 0.5)[0]] = 1\n",
        "                pred_label[np.where(p <= 0.5)[0]] = 0\n",
        "                acc += np.sum(pred_label == batch.edge_label[key].cpu().numpy())\n",
        "                num += len(pred_label)\n",
        "        accs[mode] = acc / num\n",
        "    return accs\n",
        "\n",
        "\n",
        "# Train function\n",
        "def train(model, dataloaders, optimizer, args):\n",
        "    val_max = 0\n",
        "    best_model = model\n",
        "    t_accu = []\n",
        "    v_accu = []\n",
        "    e_accu = []\n",
        "    for epoch in range(1, args[\"epochs\"] + 1):\n",
        "        for iter_i, batch in enumerate(dataloaders['train']):\n",
        "            batch.to(args[\"device\"])\n",
        "            model.train()\n",
        "            optimizer.zero_grad()\n",
        "            pred = model(batch)\n",
        "            loss = model.loss(pred, batch.edge_label)\n",
        "            loss.backward()\n",
        "            optimizer.step()\n",
        "\n",
        "            log = 'Epoch: {:03d}, Train loss: {:.4f}, Train: {:.4f}, Val: {:.4f}, Test: {:.4f}'\n",
        "            accs = test(model, dataloaders, args)\n",
        "            t_accu.append(accs['train'])\n",
        "            v_accu.append(accs['val'])\n",
        "            e_accu.append(accs['test'])\n",
        "\n",
        "            print(log.format(epoch, loss.item(), accs['train'], accs['val'], accs['test']))\n",
        "            if val_max < accs['val']:\n",
        "                val_max = accs['val']\n",
        "                best_model = copy.deepcopy(model)\n",
        "                \n",
        "    log = 'Best: Train: {:.4f}, Val: {:.4f}, Test: {:.4f}'\n",
        "    accs = test(best_model, dataloaders, args)\n",
        "    print(log.format(accs['train'], accs['val'], accs['test']))\n",
        "\n",
        "    return t_accu, v_accu, e_accu"
      ],
      "metadata": {
        "id": "spiF-a037j_D"
      },
      "execution_count": 22,
      "outputs": []
    },
    {
      "cell_type": "code",
      "source": [
        "args = {\n",
        "    \"device\": \"cuda\",\n",
        "    \"epochs\": 120,\n",
        "    \"lr\": 0.01,\n",
        "    \"weight_decay\": 1e-4\n",
        "}\n",
        "\n",
        "# Build the model and start training\n",
        "model = HeteroGNN(conv1, conv2, hete, hidden_size).to(args[\"device\"])\n",
        "optimizer = torch.optim.Adam(model.parameters(), lr=args['lr'], weight_decay=args['weight_decay'])\n",
        "t_accu, v_accu, e_accu = train(model, dataloaders, optimizer, args)"
      ],
      "metadata": {
        "id": "teSb682u-bdn"
      },
      "execution_count": null,
      "outputs": []
    },
    {
      "cell_type": "code",
      "source": [],
      "metadata": {
        "id": "xS8pJZRR-kIF"
      },
      "execution_count": null,
      "outputs": []
    }
  ]
}